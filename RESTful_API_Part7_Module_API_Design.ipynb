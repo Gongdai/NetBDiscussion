{
 "cells": [
  {
   "cell_type": "markdown",
   "metadata": {},
   "source": [
    "# Module API Design\n",
    "\n",
    ">* [Get All Modules of a Device](#Get-All-Modules-of-a-Device-API)\n",
    "\n",
    ">* [Create Module Attribute](#Create-Module-Attribute-API)\n",
    "\n",
    ">* [Set Module Attribute](#Set-Module-Attribute-API)\n",
    "\n",
    ">* [Get Module Attributes](#Get-Module-Attributes-API)\n",
    "\n",
    ">* [Delete Module Attribute](#Delete-Module-Attribute-API)\n"
   ]
  },
  {
   "cell_type": "markdown",
   "metadata": {},
   "source": [
    "# Get All Modules of a Device API\n",
    "This API call is used to get  all modules of device specified by hostname\n",
    "\n",
    "\n",
    "* **Resource Information**\n",
    "\n",
    "\n",
    "|**Method**|**URL**|**Authentication**|\n",
    "|------|------|------|\n",
    "| **GET** | http(s)://\"IP address of NetBrain Web API Server\"/ServicesAPI/API/V1/CMDB/Modules | Yes |\n",
    "\n",
    "\n",
    "* **Header**\n",
    "\n",
    "|**Parameter**|**Type**|**Description**|\n",
    "|------|------|------|\n",
    "| Content-Type | string  | support \"application/json\" |\n",
    "| Accept | string  | support \"application/json\" |\n",
    "\n",
    "* **Parameters**(*required)\n",
    "\n",
    "|**Name**|**Type**|**Description**|\n",
    "|------|------|------|\n",
    "|token* | string  | The token can be obtained by sending a POST request to the log in session endpoint and provide valid credentials.  |\n",
    "|nb_URL* | string  | IP address of your NetBrain Web API Server  |\n",
    "|hostname* | string  | The hostname of the target device.  |\n",
    "\n",
    "* **Response Information**\n",
    "\n",
    "|**Name**|**Type**|**Description**|\n",
    "|------|------|------|\n",
    "|moudules| string[] | A list of module names. |\n",
    "|statusCode| integer | Code issued by NetBrain server indicating the execution result.  |\n",
    "|statusDescription| string | The explanation of the status code. |\n",
    "\n",
    "* **Example**"
   ]
  },
  {
   "cell_type": "code",
   "execution_count": 15,
   "metadata": {},
   "outputs": [
    {
     "data": {
      "text/plain": [
       "{'modules': [], 'statusCode': 790200, 'statusDescription': 'Success.'}"
      ]
     },
     "execution_count": 15,
     "metadata": {},
     "output_type": "execute_result"
    }
   ],
   "source": [
    "# import python modules \n",
    "import requests\n",
    "import time\n",
    "import urllib3\n",
    "import pprint\n",
    "import json\n",
    "urllib3.disable_warnings(urllib3.exceptions.InsecureRequestWarning)\n",
    "\n",
    "# Set the request parameters\n",
    "token = \"08d0360d-3f0f-438b-b839-191897614ea3\"\n",
    "nb_url = \"http://192.168.28.79\"\n",
    "hostname = \"R8\"\n",
    "\n",
    "# Get modules\n",
    "def getModules(nb_url, token, hostname):\n",
    "    headers = {'Content-Type': 'application/json', 'Accept': 'application/json'}\n",
    "    headers[\"Token\"]=token\n",
    "    full_url= nb_url + \"/ServicesAPI/API/V1/CMDB/Modules\"\n",
    "    body={\"hostname\":hostname}\n",
    "    try:\n",
    "        response = requests.get(full_url, params=body, headers=headers, verify=False)\n",
    "        if response.status_code == 200:\n",
    "            result = response.json()\n",
    "            return (result)\n",
    "        else:\n",
    "            return (\"Get modules failed! - \" + str(response.text))\n",
    "    except Exception as e:\n",
    "        return (str(e))     \n",
    "    \n",
    "res = getModules(nb_url, token, hostname)\n",
    "res"
   ]
  },
  {
   "cell_type": "markdown",
   "metadata": {},
   "source": [
    "Although i can call the previous function by using guest role which is correct. But the 'modules' list always empty. Even i change my role to the admin when i call this function again its still empty."
   ]
  },
  {
   "cell_type": "markdown",
   "metadata": {},
   "source": [
    "# Create Module Attribute API\n",
    "This API call is used to create a customized module attribute for certain device types. You can use the SetModuleAttribute API to set a value for the created attribute.\n",
    "\n",
    "* **Resource Information**\n",
    "\n",
    "|**Method**|**URL**|**Authentication**|\n",
    "|------|------|------|\n",
    "| **POST** | http(s)://\"IP address of NetBrain Web API Server\"/ServicesAPI/API/V1/CMDB/Modules/Attributes | Yes |\n",
    "\n",
    "* **Header**\n",
    "\n",
    "|**Parameter**|**Type**|**Description**|\n",
    "|------|------|------|\n",
    "| Content-Type | string  | support \"application/json\" |\n",
    "| Accept | string  | support \"application/json\" |\n",
    "\n",
    "* **Parameters**(*required)\n",
    "\n",
    "|**Name**|**Type**|**Description**|\n",
    "|------|------|------|\n",
    "|token* | string  | The token can be obtained by sending a POST request to the log in session endpoint and provide valid credentials.  |\n",
    "|nb_URL* | string  | IP address of your NetBrain Web API Server  |\n",
    "|attributeName* | string  | The name of the attribute.  |\n",
    "|deviceTypeNames* | string  | The device types that the created attribute applies to. If set to null, it will apply to all device types. See Device Type Name and ID for available device types. |\n",
    "|subDataType | string  | Only available for list or table type property.<br>▪ The data type of each value in a list type property.<br>▪ If the data type is table, specify the sub properties of table type property as follows:<br>\"name\" - the sub property name (displayed as a column header).<br>\"displayName\" - the display name (alias) of the sub property (can be null).<br>\"dataType\" - the data type of the sub property.<br>\"isKey\" (bool) - control whether to use the sub property as the key when comparing the table type property. The default value is false.  |\n",
    "|dataType* | string  | The data type of the attribute.  |\n",
    "|attributeDisplayName | string  | The display name of the attribute in Device Details pane of NetBrain IE system. |\n",
    "\n",
    "\n",
    "* **Response Information**\n",
    "\n",
    "|**Name**|**Type**|**Description**|\n",
    "|------|------|------|\n",
    "|statusCode| integer | Code issued by NetBrain server indicating the execution result.  |\n",
    "|statusDescription| string | The explanation of the status code. |\n",
    "\n",
    "* **Example**"
   ]
  },
  {
   "cell_type": "code",
   "execution_count": 16,
   "metadata": {},
   "outputs": [
    {
     "data": {
      "text/plain": [
       "'Create module attribute failed! - {\"statusCode\":795003,\"statusDescription\":\"Insufficient permissions: the current user has insufficient permissions to perform the requested operation. The user has no tenant or domain access permission.tenantManagement\"}'"
      ]
     },
     "execution_count": 16,
     "metadata": {},
     "output_type": "execute_result"
    }
   ],
   "source": [
    "# Set the request parameters\n",
    "attributeName = \"newAttribute\"\n",
    "attributeDisplayName = \"New Attribute\"\n",
    "deviceTypeNames = \"null\"\n",
    "dataType = \"string\"\n",
    "subDataType = \"null\"\n",
    "isFullSearch = True\n",
    "\n",
    "# Create module attribute\n",
    "def createModuleAttribute(nb_url, token, attributeName, attributeDisplayName, deviceTypeNames, dataType, isFullSearch):\n",
    "    headers = {'Content-Type': 'application/json', 'Accept': 'application/json'}\n",
    "    headers[\"Token\"]=token\n",
    "    full_url= nb_url + \"/ServicesAPI/API/V1/CMDB/Modules/Attributes\"\n",
    "    body={\"attributeName\": attributeName,\"attributeDisplayName\": attributeDisplayName,\n",
    "    \"deviceTypeNames\": deviceTypeNames, \"dataType\": dataType,\"isFullSearch\": isFullSearch}\n",
    "    try:\n",
    "        response = requests.post(full_url, data=json.dumps(body), headers=headers, verify=False)\n",
    "        if response.status_code == 200:\n",
    "            result = response.json()\n",
    "            return (result)\n",
    "        else:\n",
    "            return (\"Create module attribute failed! - \" + str(response.text))\n",
    "    except Exception as e:\n",
    "        return (str(e))   \n",
    "    \n",
    "res = createModuleAttribute(nb_url, token, attributeName, attributeDisplayName, deviceTypeNames, dataType, isFullSearch)\n",
    "res"
   ]
  },
  {
   "cell_type": "markdown",
   "metadata": {},
   "source": [
    "# Set Module Attribute API\n",
    "This API call is used to set a value for the specific property of a devicemodule.\n",
    "\n",
    "* **Resource Information**\n",
    "\n",
    "|**Method**|**URL**|**Authentication**|\n",
    "|------|------|------|\n",
    "| **GET** | http(s)://\"IP address of NetBrain Web API Server\"/ServicesAPI/API/V1/CMDB/Modules/Attributes | Yes |\n",
    "\n",
    "* **Header**\n",
    "\n",
    "|**Parameter**|**Type**|**Description**|\n",
    "|------|------|------|\n",
    "| Content-Type | string  | support \"application/json\" |\n",
    "| Accept | string  | support \"application/json\" |\n",
    "\n",
    "* **Parameters**(*required)\n",
    "\n",
    "|**Name**|**Type**|**Description**|\n",
    "|------|------|------|\n",
    "|token* | string  | The token can be obtained by sending a POST request to the log in session endpoint and provide valid credentials.  |\n",
    "|nb_URL* | string  | IP address of your NetBrain Web API Server  |\n",
    "|attributeName* | string  | The name of the attribute that you want to set a value for. Please note that the slot name cannot be set. |\n",
    "|attributeValue* | string/int/double  | The value for the attribute.  |\n",
    "|hostname* | string  | The hostname of the device. |\n",
    "|moduleName* | string  | The full name of the module.  |\n",
    "\n",
    ">* **Note:** Applicable Module Attribute\n",
    "\n",
    ">  |**Property Name**|**Display Name in Device Detail Pane**|**Description**|\n",
    "|------|------|------|\n",
    "| type | Module Type  | The port counts of a module. |\n",
    "| ports | Ports  | The module type of a module. |\n",
    "| sn | Module Serial Number  | The serial number of a module. |\n",
    "| hwrev | HW Rev  | The hardware revision of a module. |\n",
    "| fwrev | FW Rev  | The firmware revision of a module. |\n",
    "| swrev | SW Rev  | The software revision of a module. |\n",
    "| descr | Description  | The description of a module. |\n",
    "\n",
    "* **Response Information**\n",
    "\n",
    "|**Name**|**Type**|**Description**|\n",
    "|------|------|------|\n",
    "|statusCode| integer | Code issued by NetBrain server indicating the execution result.  |\n",
    "|statusDescription| string | The explanation of the status code. |\n",
    "\n",
    "* **Example**"
   ]
  },
  {
   "cell_type": "code",
   "execution_count": 17,
   "metadata": {},
   "outputs": [
    {
     "data": {
      "text/plain": [
       "'Set module attribute failed! - {\"statusCode\":791000,\"statusDescription\":\"Null parameter: the parameter \\'moduleName\\' cannot be null.\"}'"
      ]
     },
     "execution_count": 17,
     "metadata": {},
     "output_type": "execute_result"
    }
   ],
   "source": [
    "# Set the request parameters\n",
    "attributeValue = \"Boston\"\n",
    "moduleName = \"\"\n",
    "\n",
    "# Set module attribute\n",
    "def setModuleAttribute(nb_url, token, hostname, attributeName, attributeValue, moduleName):\n",
    "    headers = {'Content-Type': 'application/json', 'Accept': 'application/json'}\n",
    "    headers[\"Token\"]=token\n",
    "    full_url= nb_url + \"/ServicesAPI/API/V1/CMDB/Modules/Attributes\"\n",
    "    body={\"hostname\": hostname,\"attributeName\": attributeName,\"attributeValue\": attributeValue, \"moduleName\":moduleName}\n",
    "    try:\n",
    "        response = requests.put(full_url, data=json.dumps(body), headers=headers, verify=False)\n",
    "        if response.status_code == 200:\n",
    "            result = response.json()\n",
    "            return (result)\n",
    "        else:\n",
    "            return (\"Set module attribute failed! - \" + str(response.text))\n",
    "    except Exception as e:\n",
    "        return (str(e))     \n",
    "    \n",
    "res = setModuleAttribute(nb_url, token, hostname, attributeName, attributeValue, moduleName)\n",
    "res"
   ]
  },
  {
   "cell_type": "markdown",
   "metadata": {},
   "source": [
    "Because of the get modules API not work, I cannot get the module name to put it into the setModuleAttribute() function. And the moduleName is a required attribute. So I cannot got the expect result."
   ]
  },
  {
   "cell_type": "markdown",
   "metadata": {},
   "source": [
    "# Get Module Attributes API\n",
    "This API call is used to get the value for a specified attribute of a device interface, get all attributes if the attribute name is not specifed.\n",
    "\n",
    "* **Resource Information**\n",
    "\n",
    "|**Method**|**URL**|**Authentication**|\n",
    "|------|------|------|\n",
    "| **GET** | http(s):// http(s)://\"IP address of NetBrain Web API Server\"/ServicesAPI/API/V1/CMDB/Modules/Attributes | Yes |\n",
    "\n",
    "* **Header**\n",
    "\n",
    "|**Parameter**|**Type**|**Description**|\n",
    "|------|------|------|\n",
    "| Content-Type | string  | support \"application/json\" |\n",
    "| Accept | string  | support \"application/json\" |\n",
    "\n",
    "* **Parameters**(*required)\n",
    "\n",
    "|**Name**|**Type**|**Description**|\n",
    "|------|------|------|\n",
    "|token* | string  | The token can be obtained by sending a POST request to the log in session endpoint and provide valid credentials.  |\n",
    "|nb_URL* | string  | IP address of your NetBrain Web API Server  |\n",
    "|hostname* | string  | The hostname of the target device.  |\n",
    "|moduleName* | string  | Input the full name of the module. |\n",
    "|attributeName | string  | Optional. The name of the attribute that you want to get its value,, get all attributes if the attribute name is not specifed.<br>Please note that the attribute name here is case sensitive and not the name displayed in the Device Details pane of NetBrain IE system. See Applicable Module Attributes for system built-in module attributes.  |\n",
    "\n",
    "* **Response Information**\n",
    "\n",
    "|**Name**|**Type**|**Description**|\n",
    "|------|------|------|\n",
    "|attributeName | string | The name of the attribute.  |\n",
    "|moduleAttributeValue| string | The returned attribute value.  |\n",
    "|hostname| string | The hostname of the returned device. |\n",
    "|statusCode| integer | Code issued by NetBrain server indicating the execution result.  |\n",
    "|statusDescription| string | The explanation of the status code. |\n",
    "\n",
    "* **Example**"
   ]
  },
  {
   "cell_type": "code",
   "execution_count": 18,
   "metadata": {},
   "outputs": [
    {
     "data": {
      "text/plain": [
       "'Get module attributes failed! - {\"statusCode\":793001,\"statusDescription\":\"Inner exception. please check system log(default location: log/NgThirdAPI.log)\"}'"
      ]
     },
     "execution_count": 18,
     "metadata": {},
     "output_type": "execute_result"
    }
   ],
   "source": [
    "# Get module attributes\n",
    "def getModuleAttributes(nb_url, token, hostname, moduleName, attributeName):\n",
    "    headers = {'Content-Type': 'application/json', 'Accept': 'application/json'}\n",
    "    headers[\"Token\"]=token\n",
    "    full_url= nb_url + \"/ServicesAPI/API/V1/CMDB/Modules/Attributes\"\n",
    "    body={\"hostname\":hostname,\"moduleName\":moduleName, \"attributeName\":attributeName}\n",
    "    try:\n",
    "        response = requests.get(full_url, params=body, headers=headers, verify=False)\n",
    "        if response.status_code == 200:\n",
    "            result = response.json()\n",
    "            return (\"Module Attributes :\"+str(result))\n",
    "        else:\n",
    "            return (\"Get module attributes failed! - \" + str(response.text))\n",
    "    except Exception as e:\n",
    "        return (str(e))  \n",
    "    \n",
    "res = getModuleAttributes(nb_url, token, hostname, moduleName, attributeName)\n",
    "res"
   ]
  },
  {
   "cell_type": "markdown",
   "metadata": {},
   "source": [
    "Same problem with the previous API."
   ]
  },
  {
   "cell_type": "markdown",
   "metadata": {},
   "source": [
    "# Delete Module Attribute API\n",
    "This API call is used to delete an module attribute (property) from device schema\n",
    "\n",
    "* **Resource Information**\n",
    "\n",
    "|**Method**|**URL**|**Authentication**|\n",
    "|------|------|------|\n",
    "| **DELETE** | http(s)://\"IP address of NetBrain Web API Server\"/ServicesAPI/API/V1/CMDB/Modules/Attributes | Yes |\n",
    "\n",
    "* **Header**\n",
    "\n",
    "|**Parameter**|**Type**|**Description**|\n",
    "|------|------|------|\n",
    "| Content-Type | string  | support \"application/json\" |\n",
    "| Accept | string  | support \"application/json\" |\n",
    "\n",
    "* **Parameters**(*required)\n",
    "\n",
    "|**Name**|**Type**|**Description**|\n",
    "|------|------|------|\n",
    "|token* | string  | The token can be obtained by sending a POST request to the log in session endpoint and provide valid credentials.  |\n",
    "|nb_URL* | string  | IP address of your NetBrain Web API Server  |\n",
    "|attributeName* | string  | The name of the attribute that you want to delete. Please note that the attribute name here is case sensitive.  |\n",
    "\n",
    "* **Response Information**\n",
    "\n",
    "|**Name**|**Type**|**Description**|\n",
    "|------|------|------|\n",
    "|statusCode| integer | Code issued by NetBrain server indicating the execution result.  |\n",
    "|statusDescription| string | The explanation of the status code. |\n",
    "\n",
    "* **Example**"
   ]
  },
  {
   "cell_type": "code",
   "execution_count": 19,
   "metadata": {},
   "outputs": [
    {
     "data": {
      "text/plain": [
       "'Delete module attribute failed! - {\"statusCode\":795003,\"statusDescription\":\"Insufficient permissions: the current user has insufficient permissions to perform the requested operation. The user has no tenant or domain access permission.tenantManagement\"}'"
      ]
     },
     "execution_count": 19,
     "metadata": {},
     "output_type": "execute_result"
    }
   ],
   "source": [
    "# Delete module attribute\n",
    "def deleteModuleAttribute(nb_url, token, attributeName):\n",
    "    headers = {'Content-Type': 'application/json', 'Accept': 'application/json'}\n",
    "    headers[\"Token\"]=token\n",
    "    full_url= nb_url + \"/ServicesAPI/API/V1/CMDB/Modules/Attributes\"\n",
    "    body={\"attributeName\": attributeName}\n",
    "    try:\n",
    "        response = requests.delete(full_url, data=json.dumps(body),headers=headers, verify=False)\n",
    "        if response.status_code == 200:\n",
    "            result = response.json()\n",
    "            return (\"Delete module attribute :\"+str(result))\n",
    "        else:\n",
    "            return (\"Delete module attribute failed! - \" + str(response.text))\n",
    "    except Exception as e:\n",
    "        return (str(e))          \n",
    "    \n",
    "res = deleteModuleAttribute(nb_url, token, attributeName)\n",
    "res"
   ]
  },
  {
   "cell_type": "markdown",
   "metadata": {},
   "source": [
    "In the north bound API form, it shows the guest role can call this API to delete module attribute."
   ]
  },
  {
   "cell_type": "markdown",
   "metadata": {},
   "source": [
    "> **Note:** Applicable Interface Attributes\n",
    "\n",
    "> |**Property Name**|**Display Name in Device Detail Pane**|**Description**|\n",
    "|------|------|------|\n",
    "| bandwidth | Bandwidth  | The bandwidth of an interface. |\n",
    "| descr | Description  | The description of an interface. |\n",
    "| duplex | Duplex  | The duplex of an interface. |\n",
    "| inAclName | Inbound ACL  | The inbound ACL of an interface. |\n",
    "| intfStatus | Live Status  | The state of an interface. |\n",
    "| ips | IPv4 Address  | The IPv4 address of an interface. |\n",
    "| ipUnnumberedIp | Trunk Unnumbered IP  | The unnumbered IP address of an interface as an unnumbered interface. |\n",
    "| ipv6LinkLocalAddress | IPv6 Link Local Address  | The IPv6 local address of an interface. |\n",
    "| ipv6s | IPv6 Address  | The IPv6 address of an interface. |\n",
    "| macAddr | MAC Address  | The MAC address of an interface. |\n",
    "| mibIndex | MIB Index  | The MIB index of an interface. |\n",
    "| mode | Switchport Mode  | The switchport mode of an interface. |\n",
    "| moduleSlot | Slot#  | The module slot number of an interface. |\n",
    "| moduleType | Module Type | The module type of an interface. |\n",
    "| mplsVpn | MPLS VPN  | The MPLS VPN configured on an interface. |\n",
    "| mplsVrf | MPLS VRF  | The name of the VRF configured on an interface. |\n",
    "| multicastMode | Multicasting Mode  | The multicasting mode of an interface. |\n",
    "| name | Interface Name  | The name of an interface. |\n",
    "| outAclName | Outbound ACL  | The outbound ACL of an interface. |\n",
    "| routingProtocol | Routing Protocol.  | The routing protocol configured on an interface. |\n",
    "| speed | Speed  | The speed of an interface. |\n",
    "| trunkEncapsulation | Trunk Encapsulation  | The trunk encapsulation protocol of an interface as trunk port. |\n",
    "| trunkNativeVlan | Native VLAN  | The native VLAN of an interface as switchport. |\n",
    "| vlan | VLAN  | The VLAN number that an interface belongs to. |\n"
   ]
  },
  {
   "cell_type": "code",
   "execution_count": null,
   "metadata": {},
   "outputs": [],
   "source": []
  }
 ],
 "metadata": {
  "kernelspec": {
   "display_name": "Python 3",
   "language": "python",
   "name": "python3"
  },
  "language_info": {
   "codemirror_mode": {
    "name": "ipython",
    "version": 3
   },
   "file_extension": ".py",
   "mimetype": "text/x-python",
   "name": "python",
   "nbconvert_exporter": "python",
   "pygments_lexer": "ipython3",
   "version": "3.7.1"
  }
 },
 "nbformat": 4,
 "nbformat_minor": 2
}
