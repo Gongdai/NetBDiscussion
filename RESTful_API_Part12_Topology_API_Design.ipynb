{
 "cells": [
  {
   "cell_type": "markdown",
   "metadata": {},
   "source": [
    "# Topology API Design\n",
    "<br><br>\n",
    ">* [Build L2 Topology API](#Build-L2-Topology-API)\n",
    "<br><br>\n",
    ">* [Build L3 Topology API](#Build-L3-Topology-API)\n",
    "<br><br>\n",
    ">* [Get Device Neighbors by Topology Type API](#Get-Device-Neighbors-by-Topology-Type-API)\n",
    "<br><br>\n",
    ">* [Get Topology Build Task Status API](#Get-Topology-Build-Task-Status-API)\n",
    "<br><br>\n",
    ">* [Get Connected Switch Port API](#Get-Connected-Switch-Port-API)"
   ]
  },
  {
   "cell_type": "markdown",
   "metadata": {},
   "source": [
    "# Build L2 Topology API\n",
    "This API call is used to build  or rebuild the Layer 2 topology for all network devices in a domain.\n",
    "<br><br>\n",
    "Note that, in a domain scope, only one topology build task can run at any time.\n",
    "\n",
    "<br><br>\n",
    "\n",
    "* **Resource Information**\n",
    "\n",
    "|**Method**|**URL**|**Authentication**|\n",
    "|------|------|------|\n",
    "| **POST** | http(s)://\"IP address of NetBrain Web API Server\"/ServicesAPI/API/V1/CMDB/Topology/Tasks/L2 | Yes |\n",
    "\n",
    "<br><br>\n",
    "\n",
    "* **Header**\n",
    "\n",
    "|**Parameter**|**Type**|**Description**|\n",
    "|------|------|------|\n",
    "| Content-Type | string  | support \"application/json\" |\n",
    "| Accept | string  | support \"application/json\" |\n",
    "|token | string  | The token can be obtained by sending a POST request to the log in session endpoint and provide valid credentials.  |\n",
    "\n",
    "<br><br>\n",
    "\n",
    "* **Parameters**(*required)\n",
    "\n",
    "|**Name**|**Type**|**Description**|\n",
    "|------|------|------|\n",
    "|nb_URL* | string  | IP address of your NetBrain Web API Server  |\n",
    "\n",
    "<br><br>\n",
    "\n",
    "* **Response Information**\n",
    "\n",
    "|**Name**|**Type**|**Description**|\n",
    "|------|------|------|\n",
    "|taskId| string | The task Id. It can be used to query task status. |\n",
    "|statusCode| integer | Code issued by NetBrain server indicating the execution result.  |\n",
    "|statusDescription| string | The explanation of the status code. |\n",
    "\n",
    "<br><br>\n",
    "\n",
    "* **Example**"
   ]
  },
  {
   "cell_type": "code",
   "execution_count": 1,
   "metadata": {},
   "outputs": [
    {
     "data": {
      "text/plain": [
       "'Build L2 topology failed - {\"statusCode\":795003,\"statusDescription\":\"Insufficient permissions: the current user has insufficient permissions to perform the requested operation. The user has no tenant or domain access permission.domainManagement\"}'"
      ]
     },
     "execution_count": 1,
     "metadata": {},
     "output_type": "execute_result"
    }
   ],
   "source": [
    "# import python modules \n",
    "import requests\n",
    "import time\n",
    "import urllib3\n",
    "import pprint\n",
    "import json\n",
    "urllib3.disable_warnings(urllib3.exceptions.InsecureRequestWarning)\n",
    "\n",
    "# Set the request parameters\n",
    "token = \"a9d78841-506e-4c8a-be3a-946d5e1d5148\"\n",
    "nb_url = \"http://192.168.28.79\"\n",
    "\n",
    "# Build L2 topology\n",
    "def buildL2(nb_url, token):\n",
    "    headers = {'Content-Type': 'application/json', 'Accept': 'application/json'}\n",
    "    headers[\"Token\"]=token\n",
    "    full_url= nb_url + \"/ServicesAPI/API//V1/CMDB/Topology/Tasks/L2\"\n",
    "    try:\n",
    "        response = requests.post(full_url, headers=headers, verify=False)\n",
    "        if response.status_code == 200:\n",
    "            result = response.json()\n",
    "            return (result)\n",
    "        else:\n",
    "            return(\"Build L2 topology failed - \" + str(response.text))\n",
    "    except Exception as e:\n",
    "        return (str(e)) \n",
    "    \n",
    "res = buildL2(nb_url, token)\n",
    "res"
   ]
  },
  {
   "cell_type": "markdown",
   "metadata": {},
   "source": [
    "# Build L3 Topology API\n",
    "This API call is used to build  or rebuild the Layer 3 topology for all network devices in a domain.\n",
    "<br><br>\n",
    "Note that, in a domain scope, only one topology build task can run at any time.\n",
    "\n",
    "<br><br>\n",
    "\n",
    "* **Resource Information**\n",
    "\n",
    "|**Method**|**URL**|**Authentication**|\n",
    "|------|------|------|\n",
    "| **POST** | http(s)://\"IP address of NetBrain Web API Server\"/ServicesAPI/API/V1/CMDB/Topology/Tasks/L3 | Yes |\n",
    "\n",
    "<br><br>\n",
    "\n",
    "* **Header**\n",
    "\n",
    "|**Parameter**|**Type**|**Description**|\n",
    "|------|------|------|\n",
    "| Content-Type | string  | support \"application/json\" |\n",
    "| Accept | string  | support \"application/json\" |\n",
    "|token | string  | The token can be obtained by sending a POST request to the log in session endpoint and provide valid credentials.  |\n",
    "\n",
    "<br><br>\n",
    "\n",
    "* **Parameters**(*required)\n",
    "\n",
    "|**Name**|**Type**|**Description**|\n",
    "|------|------|------|\n",
    "|nb_URL* | string  | IP address of your NetBrain Web API Server  |\n",
    "\n",
    "<br><br>\n",
    "\n",
    "* **Response Information**\n",
    "\n",
    "|**Name**|**Type**|**Description**|\n",
    "|------|------|------|\n",
    "|taskId| string | The task Id. It can be used to query task status. |\n",
    "|statusCode| integer | Code issued by NetBrain server indicating the execution result.  |\n",
    "|statusDescription| string | The explanation of the status code. |\n",
    "\n",
    "<br><br>\n",
    "\n",
    "* **Example**"
   ]
  },
  {
   "cell_type": "code",
   "execution_count": 4,
   "metadata": {},
   "outputs": [
    {
     "data": {
      "text/plain": [
       "'Build L3 topology failed - {\"statusCode\":795003,\"statusDescription\":\"Insufficient permissions: the current user has insufficient permissions to perform the requested operation. The user has no tenant or domain access permission.domainManagement\"}'"
      ]
     },
     "execution_count": 4,
     "metadata": {},
     "output_type": "execute_result"
    }
   ],
   "source": [
    "# Build L3 topology\n",
    "def buildL3(nb_url, token):\n",
    "    headers = {'Content-Type': 'application/json', 'Accept': 'application/json'}\n",
    "    headers[\"Token\"]=token\n",
    "    full_url= nb_url + \"/ServicesAPI/API//V1/CMDB/Topology/Tasks/L3\"\n",
    "    try:\n",
    "        response = requests.post(full_url, headers=headers, verify=False)\n",
    "        if response.status_code == 200:\n",
    "            result = response.json()\n",
    "            return (result)\n",
    "        else:\n",
    "            return(\"Build L3 topology failed - \" + str(response.text))\n",
    "    except Exception as e:\n",
    "        return (str(e)) \n",
    "    \n",
    "res = buildL3(nb_url, token)\n",
    "res"
   ]
  },
  {
   "cell_type": "markdown",
   "metadata": {},
   "source": [
    "# Get Device Neighbors by Topology Type API\n",
    "This API call is used to get neighbors of a  device by specified topology type.\n",
    "\n",
    "<br><br>\n",
    "\n",
    "* **Resource Information**\n",
    "\n",
    "|**Method**|**URL**|**Authentication**|\n",
    "|------|------|------|\n",
    "| **GET** | http(s):// \"IP address of your NetBrain Web API Server\" /ServicesAPI/API/V1/CMDB/Topology/Devices/Neighbors | Yes |\n",
    "\n",
    "<br><br>\n",
    "\n",
    "* **Header**\n",
    "\n",
    "|**Parameter**|**Type**|**Description**|\n",
    "|------|------|------|\n",
    "| Content-Type | string  | support \"application/json\" |\n",
    "| Accept | string  | support \"application/json\" |\n",
    "|token | string  | The token can be obtained by sending a POST request to the log in session endpoint and provide valid credentials.  |\n",
    "\n",
    "<br><br>\n",
    "\n",
    "* **Parameters**(*required)\n",
    "\n",
    "|**Name**|**Type**|**Description**|\n",
    "|------|------|------|\n",
    "|nb_URL* | string  | IP address of your NetBrain Web API Server  |\n",
    "|hostname* | string  | The device name.  |\n",
    "|topoType* | string  | Return the neighbors in a specified topology type, such as \"L2_Topo_Type’, ‘L3_Topo_Type’, ‘Ipv6_L3_Topo_Type’ or ‘VPN_Topo_Type\". |\n",
    "\n",
    "<br><br>\n",
    "\n",
    "* **Response Information**\n",
    "\n",
    "|**Name**|**Type**|**Description**|\n",
    "|------|------|------|\n",
    "|neighbors | list of object | List of neribor devices and interface.  |\n",
    "|neighbors.hostname | string | The peer device name.  |\n",
    "|neighbors.interface | string | The peer interface name. |\n",
    "|statusCode| integer | Code issued by NetBrain server indicating the execution result.  |\n",
    "|statusDescription| string | The explanation of the status code. |\n",
    "\n",
    "<br><br>\n",
    "\n",
    "* **Example**"
   ]
  },
  {
   "cell_type": "code",
   "execution_count": 5,
   "metadata": {},
   "outputs": [
    {
     "data": {
      "text/plain": [
       "{'neighbors': [], 'statusCode': 790200, 'statusDescription': 'Success.'}"
      ]
     },
     "execution_count": 5,
     "metadata": {},
     "output_type": "execute_result"
    }
   ],
   "source": [
    "hostname = \"Client3\"\n",
    "topoType = \"L2_Topo_Type\"\n",
    "\n",
    "# Get device neighbors by topology type\n",
    "def getNeighborsByTopology(nb_url, token, hostname, topoType):\n",
    "    headers = {'Content-Type': 'application/json', 'Accept': 'application/json'}\n",
    "    headers[\"Token\"]=token\n",
    "    full_url= nb_url + \"/ServicesAPI/API/V1/CMDB/Topology/Devices/Neighbors\"\n",
    "    body={\"hostname\":hostname,\"topoType\":topoType}\n",
    "    try:\n",
    "        response = requests.get(full_url, params=body, headers=headers, verify=False)\n",
    "        if response.status_code == 200:\n",
    "            result = response.json()\n",
    "            return (result)\n",
    "        else:\n",
    "            return (\"Get neighbors by topology failed! - \" + str(response.text))\n",
    "    except Exception as e:\n",
    "        return (str(e))\n",
    "    \n",
    "res = getNeighborsByTopology(nb_url, token, hostname, topoType)\n",
    "res"
   ]
  },
  {
   "cell_type": "markdown",
   "metadata": {},
   "source": [
    "# The Get Device Neighbors by Topology Type API shouldn't be calle by a guest role user."
   ]
  },
  {
   "cell_type": "markdown",
   "metadata": {},
   "source": [
    "# Get Topology Build Task Status API\n",
    "This API call is used to query the running status of a topology build task status in a domain.\n",
    "\n",
    "<br><br>\n",
    "\n",
    "* **Resource Information**\n",
    "\n",
    "|**Method**|**URL**|**Authentication**|\n",
    "|------|------|------|\n",
    "| **GET** | http(s):// \"IP address of your NetBrain Web API Server\" /ServicesAPI/API/V1/CMDB/Topology/Tasks/{taskId}/Status | Yes |\n",
    "\n",
    "<br><br>\n",
    "\n",
    "* **Header**\n",
    "\n",
    "|**Parameter**|**Type**|**Description**|\n",
    "|------|------|------|\n",
    "| Content-Type | string  | support \"application/json\" |\n",
    "| Accept | string  | support \"application/json\" |\n",
    "|token | string  | The token can be obtained by sending a POST request to the log in session endpoint and provide valid credentials.  |\n",
    "\n",
    "<br><br>\n",
    "\n",
    "* **Parameters**(*required)\n",
    "\n",
    "|**Name**|**Type**|**Description**|\n",
    "|------|------|------|\n",
    "|nb_URL* | string  | IP address of your NetBrain Web API Server  |\n",
    "|taskId* | string  | task id of topology build task  |\n",
    "\n",
    "<br><br>\n",
    "\n",
    "* **Response Information**\n",
    "\n",
    "|**Name**|**Type**|**Description**|\n",
    "|------|------|------|\n",
    "|status| string | task status. Options:<br>1, running<br>2, finished |\n",
    "|statusCode| integer | Code issued by NetBrain server indicating the execution result.  |\n",
    "|statusDescription| string | The explanation of the status code. |\n",
    "\n",
    "<br><br>\n",
    "\n",
    "* **Example**"
   ]
  },
  {
   "cell_type": "code",
   "execution_count": 7,
   "metadata": {},
   "outputs": [
    {
     "name": "stdout",
     "output_type": "stream",
     "text": [
      "http://192.168.28.79/ServicesAPI/API/V1/CMDB/Topology/Tasks/?????????????????????????????????????/Status\n"
     ]
    },
    {
     "data": {
      "text/plain": [
       "'Get status of topology build task failed! - {\"statusCode\":793404,\"statusDescription\":\"No resource\"}'"
      ]
     },
     "execution_count": 7,
     "metadata": {},
     "output_type": "execute_result"
    }
   ],
   "source": [
    "taskId = \"?????????????????????????????????????\" \n",
    "#because of the guest role privilege, i cannot get the taskId from previous function. \n",
    "\n",
    "# Get status of topology build task\n",
    "def getStatusTopologyBuild(nb_url, token, taskId):\n",
    "    full_url = nb_url + \"/ServicesAPI/API/V1/CMDB/Topology/Tasks/\"+ str(taskId) + \"/Status\"\n",
    "    print(full_url)\n",
    "    headers = {'Content-Type': 'application/json', 'Accept': 'application/json'}\n",
    "    headers[\"Token\"]=token\n",
    "    try:\n",
    "        response = requests.get(full_url, headers=headers, verify=False)\n",
    "        if response.status_code == 200:\n",
    "            result = response.json()\n",
    "            return result\n",
    "        else:\n",
    "            return(\"Get status of topology build task failed! - \" + str(response.text))\n",
    "    except Exception as e:\n",
    "        return (str(e))\n",
    "    \n",
    "res = getStatusTopologyBuild(nb_url, token, taskId)\n",
    "res"
   ]
  },
  {
   "cell_type": "markdown",
   "metadata": {},
   "source": [
    "# Get Connected Switch Port API\n",
    "This API call is used to get the connected layer 2 switch port  that an end system, specified by management ip, connected to. \n",
    "\n",
    "<br><br>\n",
    "\n",
    "* **Resource Information**\n",
    "\n",
    "|**Method**|**URL**|**Authentication**|\n",
    "|------|------|------|\n",
    "| **GET** | http(s):// \"IP address of your NetBrain Web API Server\" /ServicesAPI/API/V1/CMDB/Topology/Devices/{ip}/ConnectedSwitchPort | Yes | \n",
    "\n",
    "<br><br>\n",
    "\n",
    "* **Header**\n",
    "\n",
    "|**Parameter**|**Type**|**Description**|\n",
    "|------|------|------|\n",
    "| Content-Type | string  | support \"application/json\" |\n",
    "| Accept | string  | support \"application/json\" |\n",
    "|token | string  | The token can be obtained by sending a POST request to the log in session endpoint and provide valid credentials.  |\n",
    "\n",
    "<br><br>\n",
    "\n",
    "* **Parameters**(*required)\n",
    "\n",
    "|**Name**|**Type**|**Description**|\n",
    "|------|------|------|\n",
    "|nb_URL* | string  | IP address of your NetBrain Web API Server  |\n",
    "|ip* | string  | The IP address of a device interface. |\n",
    "\n",
    "<br><br>\n",
    "\n",
    "* **Response Information**\n",
    "\n",
    "|**Name**|**Type**|**Description**|\n",
    "|------|------|------|\n",
    "|hostname| string | Hostname of the device that the endsystem connected to.  |\n",
    "|interface| string | Interface of the device that the endsystem connected to. |\n",
    "|statusCode| integer | Code issued by NetBrain server indicating the execution result.  |\n",
    "|statusDescription| string | The explanation of the status code. |\n",
    "\n",
    "<br><br>\n",
    "\n",
    "* **Example**"
   ]
  },
  {
   "cell_type": "code",
   "execution_count": 8,
   "metadata": {},
   "outputs": [
    {
     "data": {
      "text/plain": [
       "'Get Connected Switch Port failed! - {\"statusCode\":795003,\"statusDescription\":\"Insufficient permissions: the current user has insufficient permissions to perform the requested operation. The user has no tenant or domain access permission.domainManagement\"}'"
      ]
     },
     "execution_count": 8,
     "metadata": {},
     "output_type": "execute_result"
    }
   ],
   "source": [
    "ip = \"10.1.13.2\"\n",
    "\n",
    "# Get Connected Switch Port\n",
    "def getConnectedSwitchPort(nb_url, token, ip):\n",
    "    full_url = nb_url + \"/ServicesAPI/API/V1/CMDB/Topology/Devices/\"+str(ip)+\"/ConnectedSwitchPort\"\n",
    "    headers = {'Content-Type': 'application/json', 'Accept': 'application/json'}\n",
    "    headers[\"Token\"]=token\n",
    "    try:\n",
    "        response = requests.get(full_url, headers=headers, verify=False)\n",
    "        if response.status_code == 200:\n",
    "            result = response.json()\n",
    "            return (result)\n",
    "        else:\n",
    "            return(\"Get Connected Switch Port failed! - \" + str(response.text))\n",
    "    except Exception as e:\n",
    "        return (str(e))\n",
    "    \n",
    "res = getConnectedSwitchPort(nb_url, token, ip)\n",
    "res"
   ]
  },
  {
   "cell_type": "code",
   "execution_count": null,
   "metadata": {},
   "outputs": [],
   "source": []
  }
 ],
 "metadata": {
  "kernelspec": {
   "display_name": "Python 3",
   "language": "python",
   "name": "python3"
  },
  "language_info": {
   "codemirror_mode": {
    "name": "ipython",
    "version": 3
   },
   "file_extension": ".py",
   "mimetype": "text/x-python",
   "name": "python",
   "nbconvert_exporter": "python",
   "pygments_lexer": "ipython3",
   "version": "3.7.1"
  }
 },
 "nbformat": 4,
 "nbformat_minor": 2
}
