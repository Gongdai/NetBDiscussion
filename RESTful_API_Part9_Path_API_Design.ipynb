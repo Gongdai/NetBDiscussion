{
 "cells": [
  {
   "cell_type": "markdown",
   "metadata": {},
   "source": [
    "# Path API Design\n",
    "\n",
    ">* [Calculate Path](#Calculate-Path-API)\n",
    "\n",
    ">* [Get Path Calulation Result](#Get-Path-Calulation-Result-API)"
   ]
  },
  {
   "cell_type": "markdown",
   "metadata": {},
   "source": [
    "# Calculate Path API\n",
    "This API call is used to calculate the path from endpoint A (source) to endpoint B (destination). It returns the result of the calculated path in the form of a path ID (a string), and you can use the path ID in the GetPath API as the input parameter to get each hop information of the path.\n",
    "\n",
    "* **Resource Information**\n",
    "\n",
    "|**Method**|**URL**|**Authentication**|\n",
    "|------|------|------|\n",
    "| **Post** | http(s)://\"IP address of NetBrain Web API Server\"/ServicesAPI/API/V1/CMDB/Path/Calculation | Yes |\n",
    "\n",
    "* **Header**\n",
    "\n",
    "|**Parameter**|**Type**|**Description**|\n",
    "|------|------|------|\n",
    "| Content-Type | string  | support \"application/json\" |\n",
    "| Accept | string  | support \"application/json\" |\n",
    "|token* | string  | The token can be obtained by sending a POST request to the log in session endpoint and provide valid credentials.  |\n",
    "\n",
    "* **Parameters**(*required)\n",
    "\n",
    "|**Name**|**Type**|**Description**|\n",
    "|------|------|------|\n",
    "|nb_URL* | string  | IP address of your NetBrain Web API Server  |\n",
    "|sourceIP* | string  | Input the IP address of the source device.  |\n",
    "|sourcePort | integer  | Specify the source protocol port If TCP/UDP is selected such as 23 for telnet. This parameter can be null.  |\n",
    "|sourceGwIP* | string  | the ip address of the gateway device.  |\n",
    "|sourceGwDev* | string  | the hostname of the gateway device.  |\n",
    "|sourceGwIntf* | string  | the name of the gateway interface.  |\n",
    "|destIP* | string  | Input the IP address of the destination device.  |\n",
    "|destPort* | integer  | Specify the destination protocol port If TCP/UDP is selected, such as 23 for telnet. This parameter can be null.  |\n",
    "|pathAnalysisSet* | integer  | Specify the path type to calculate:<br>▪ 1 - L3 Path<br>▪ 2 - L2 Path<br>▪ 3 - L3 Active Path |\n",
    "|protocol* | integer  | Specify the application protocol. see list_of_ip_protocol_numbers, such as 4 for IPv4.  |\n",
    "|isLive | bool  | ▪ false - Use data From current Baseline<br>▪ true - Use data via live access |\n",
    "\n",
    "* **Response Information**\n",
    "\n",
    "|**Name**|**Type**|**Description**|\n",
    "|------|------|------|\n",
    "|taskID| string | The task ID of the calculated path. You can call the hop information of the path with the taskID in the GetPath API. |\n",
    "|statusCode| integer | Code issued by NetBrain server indicating the execution result.  |\n",
    "|statusDescription| string | The explanation of the status code. |\n",
    "\n",
    "* **Example**"
   ]
  },
  {
   "cell_type": "code",
   "execution_count": 6,
   "metadata": {},
   "outputs": [
    {
     "data": {
      "text/plain": [
       "{'taskID': 'b0bae173-af8c-418b-8dc4-1ffdb0e897fa',\n",
       " 'statusCode': 790200,\n",
       " 'statusDescription': 'Success.'}"
      ]
     },
     "execution_count": 6,
     "metadata": {},
     "output_type": "execute_result"
    }
   ],
   "source": [
    "# import python modules \n",
    "import requests\n",
    "import time\n",
    "import urllib3\n",
    "import pprint\n",
    "import json\n",
    "urllib3.disable_warnings(urllib3.exceptions.InsecureRequestWarning)\n",
    "\n",
    "# Set the request parameters\n",
    "token = \"86f3b508-4f89-4b27-8f57-33feec71a395\"\n",
    "nb_url = \"http://192.168.28.79\"\n",
    "sourceIP = \"10.10.3.253\"\n",
    "sourcePort = 0\n",
    "sourceGwIP = \"10.10.3.253\"\n",
    "sourceGwDev = \"GW2Lab\"\n",
    "sourceGwIntf =  \"GigabitEthernet0/0.10\"\n",
    "destIP = \"172.24.32.225\"\n",
    "destPort = 0\n",
    "pathAnalysisSet = 1\n",
    "protocol = 4\n",
    "isLive = 1\n",
    "# Trigger path calculate and return task ID\n",
    "def CalPath(nb_url, token, sourceIP, sourceGwIP, sourceGwDev, sourceGwIntf, destIP, pathAnalysisSet, protocol, isLive):\n",
    "    headers = {'Content-Type': 'application/json', 'Accept': 'application/json'}\n",
    "    headers[\"Token\"]=token\n",
    "    full_url= nb_url + \"/ServicesAPI/API/V1/CMDB/Path/Calculation\"\n",
    "   \n",
    "    path_param={\n",
    "            \"sourceIP\":sourceIP,                # IP address of the source device.\n",
    "            \"sourceGwDev\":sourceGwDev,          # Hostname of the gateway device.\n",
    "            \"sourceGwIP\":sourceGwIP,            # Ip address of the gateway device.\n",
    "            \"sourceGwIntf\":sourceGwIntf,        # Name of the gateway interface.\n",
    "            \"destIP\":destIP,                    # IP address of the destination device.  \n",
    "            \"pathAnalysisSet\":pathAnalysisSet,  # 1:L3 Path; 2:L2 Path; 3:L3 Active Path\n",
    "            \"protocol\":protocol,                # Specify the application protocol, check online help, such as 4 for IPv4.\n",
    "            \"isLive\":isLive                     # False: Current Baseline; True: Live access\n",
    "    } \n",
    "    try:\n",
    "        #response = requests.post(full_url, data = json.dumps(path_param), headers=headers, verify=False)\n",
    "        response = requests.post(full_url, data = json.dumps(path_param), headers=headers)\n",
    "        if response.status_code == 200:\n",
    "            result = response.json()\n",
    "            #print(result)\n",
    "            return result\n",
    "        else:\n",
    "            print(response.text)\n",
    "    except Exception as e:\n",
    "        return (str(e))  \n",
    "    \n",
    "res = CalPath(nb_url, token, sourceIP, sourceGwIP, sourceGwDev, sourceGwIntf, destIP, pathAnalysisSet, protocol, isLive)\n",
    "res"
   ]
  },
  {
   "cell_type": "markdown",
   "metadata": {},
   "source": [
    "# Get Path Calulation Result API\n",
    "This API call is used to get the hop information of a path calculated through the CalcPath API. <br><br>If the Calculation Path task is not finished yet or failed,  user will get an error with messsage reminding.which means you don't need to wait anymore before trying to query the result.<br><br>All directed links in the result consists of a directed path grapth, which contains all possible reachable paths from the original source  to the destination specified in path calculation\n",
    "\n",
    "* **Resource Information**\n",
    "\n",
    "|**Method**|**URL**|**Authentication**|\n",
    "|------|------|------|\n",
    "| **GET** | http(s):// http(s)://\"IP address of NetBrain Web API Server\"/ServicesAPI/API/V1/CMDB/Path/Calculation/{taskID}/Result | Yes |\n",
    "\n",
    "* **Header**\n",
    "\n",
    "|**Parameter**|**Type**|**Description**|\n",
    "|------|------|------|\n",
    "| Content-Type | string  | support \"application/json\" |\n",
    "| Accept | string  | support \"application/json\" |\n",
    "|token* | string  | The token can be obtained by sending a POST request to the log in session endpoint and provide valid credentials.  |\n",
    "\n",
    "* **Parameters**(*required)\n",
    "\n",
    "|**Name**|**Type**|**Description**|\n",
    "|------|------|------|\n",
    "|nb_URL* | string  | IP address of your NetBrain Web API Server  |\n",
    "|taskID* | string  | Input the task ID returned by the CalcPath API. |\n",
    "\n",
    "* **Response Information**\n",
    "\n",
    "|**Name**|**Type**|**Description**|\n",
    "|------|------|------|\n",
    "|statusCode| integer | Code issued by NetBrain server indicating the execution result.  |\n",
    "|statusDescription| string | The explanation of the status code. |\n",
    "|hopList| list of Object | Hop list. |\n",
    "|hopList.hopId| string | Hop Guid. |\n",
    "|hopList.srcDeviceName| string | Source device name. |\n",
    "|hopList.inboundIneterface| string | Source interface name. |\n",
    "|hopList.mediaName| string | Media name. |\n",
    "|hopList.dstDeviceName| string | Destination device name. |\n",
    "|hopList.outboundInterface| string | Destination interface name. |\n",
    "|hopList.nextHopIdList| list of string | List of next hop ids. |\n",
    "\n",
    "\n",
    "* **Example**"
   ]
  },
  {
   "cell_type": "code",
   "execution_count": 5,
   "metadata": {},
   "outputs": [
    {
     "name": "stdout",
     "output_type": "stream",
     "text": [
      "{\"hopList\":[],\"statusCode\":794008,\"statusDescription\":\"Task '3402b0ad-e8ca-472f-b470-7d31bd20bcce' is failed\"}\n"
     ]
    }
   ],
   "source": [
    "# Set the request parameters\n",
    "taskID = \"3402b0ad-e8ca-472f-b470-7d31bd20bcce\"\n",
    "\n",
    "# Get path result based on path task ID\n",
    "def GetPathResult(nb_url, token, taskID):\n",
    "    headers = {'Content-Type': 'application/json', 'Accept': 'application/json'}\n",
    "    headers[\"Token\"]=token\n",
    "    full_url= nb_url + \"/ServicesAPI/API/V1/CMDB/Path/Calculation/\" + str(taskID) + \"/Result\"\n",
    "    try:\n",
    "        #response = requests.get(full_url, headers=headers, verify=False)\n",
    "        response = requests.get(full_url, headers=headers)\n",
    "        if response.status_code == 200:\n",
    "            result = response.json()\n",
    "            #print(result[\"hopList\"])\n",
    "            return result\n",
    "        else:\n",
    "            print(response.text)\n",
    "    except Exception as e:\n",
    "        return (str(e))   \n",
    "    \n",
    "res = GetPathResult(nb_url, token, taskID)\n",
    "res"
   ]
  },
  {
   "cell_type": "code",
   "execution_count": null,
   "metadata": {},
   "outputs": [],
   "source": []
  }
 ],
 "metadata": {
  "kernelspec": {
   "display_name": "Python 3",
   "language": "python",
   "name": "python3"
  },
  "language_info": {
   "codemirror_mode": {
    "name": "ipython",
    "version": 3
   },
   "file_extension": ".py",
   "mimetype": "text/x-python",
   "name": "python",
   "nbconvert_exporter": "python",
   "pygments_lexer": "ipython3",
   "version": "3.7.1"
  }
 },
 "nbformat": 4,
 "nbformat_minor": 2
}
