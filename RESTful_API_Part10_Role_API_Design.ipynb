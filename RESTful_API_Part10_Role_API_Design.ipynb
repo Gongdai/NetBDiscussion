{
 "cells": [
  {
   "cell_type": "markdown",
   "metadata": {},
   "source": [
    "# Role API Design\n",
    "\n",
    ">* [Add Role](#Add-Role-API)\n",
    "\n",
    ">* [Update Role](#Update-Role-API)\n",
    "\n",
    ">* [Delete Role](#Delete-Role-API)"
   ]
  },
  {
   "cell_type": "markdown",
   "metadata": {},
   "source": [
    "# Add Role API\n",
    "This API call is used to add a role and grant privileges to the role.\n",
    "\n",
    "* **Resource Information**\n",
    "\n",
    "|**Method**|**URL**|**Authentication**|\n",
    "|------|------|------|\n",
    "| **POST** | http(s)://\"IP address of NetBrain Web API Server\"/ServicesAPI/API/V1/CMDB/Roles | Yes |\n",
    "\n",
    "* **Header**\n",
    "\n",
    "|**Parameter**|**Type**|**Description**|\n",
    "|------|------|------|\n",
    "| Content-Type | string  | support \"application/json\" |\n",
    "| Accept | string  | support \"application/json\" |\n",
    "|token | string  | The token can be obtained by sending a POST request to the log in session endpoint and provide valid credentials.  |\n",
    "\n",
    "* **Parameters**(*required)\n",
    "\n",
    "|**Name**|**Type**|**Description**|\n",
    "|------|------|------|\n",
    "|nb_URL* | string  | IP address of your NetBrain Web API Server  |\n",
    "|roleName* | string  | The name of the created role. length between 0 and 128. The following special characters are not allowed in roleName: '\\', '/', ':', '*', '?', '\"', '<', '>', '|', '$'  |\n",
    "|description | string  | The description of the role. This field is optional.  |\n",
    "|privileges | list of integer  | The privileges that the role owns. See roles and privileges for more details. this field is optional. |\n",
    "\n",
    "* **Response Information**\n",
    "\n",
    "|**Name**|**Type**|**Description**|\n",
    "|------|------|------|\n",
    "|statusCode| integer | Code issued by NetBrain server indicating the execution result.  |\n",
    "|statusDescription| string | The explanation of the status code. |\n",
    "\n",
    "* **Example**"
   ]
  },
  {
   "cell_type": "code",
   "execution_count": 1,
   "metadata": {},
   "outputs": [
    {
     "data": {
      "text/plain": [
       "'Add Role failed - {\"statusCode\":793001,\"statusDescription\":\"Inner exception. The user has no user management permission.\"}'"
      ]
     },
     "execution_count": 1,
     "metadata": {},
     "output_type": "execute_result"
    }
   ],
   "source": [
    "# import python modules \n",
    "import requests\n",
    "import time\n",
    "import urllib3\n",
    "import pprint\n",
    "import json\n",
    "urllib3.disable_warnings(urllib3.exceptions.InsecureRequestWarning)\n",
    "\n",
    "# Set the request parameters\n",
    "token = \"86f3b508-4f89-4b27-8f57-33feec71a395\"\n",
    "nb_url = \"http://192.168.28.79\"\n",
    "\n",
    "roleName = \"RoleName\"\n",
    "description = \"string\"\n",
    "privileges = \"string\"\n",
    "\n",
    "# Add Role\n",
    "def addRole(nb_url, token, roleName, description, privileges):\n",
    "    headers = {'Content-Type': 'application/json', 'Accept': 'application/json'}\n",
    "    headers[\"Token\"]=token\n",
    "    full_url= nb_url + \"/ServicesAPI/API/V1/CMDB/Roles\"\n",
    "    data= {\"roleName\": roleName, \"description\": description, \"privileges\": privileges}\n",
    "    try:\n",
    "        response = requests.post(full_url, data = json.dumps(data), headers=headers, verify=False)\n",
    "        if response.status_code == 200:\n",
    "            result = response.json()\n",
    "            return (result)\n",
    "        else:\n",
    "            return(\"Add Role failed - \" + str(response.text))\n",
    "    except Exception as e:\n",
    "        return (str(e))\n",
    "    \n",
    "res = addRole(nb_url, token, roleName, description, privileges)\n",
    "res"
   ]
  },
  {
   "cell_type": "markdown",
   "metadata": {},
   "source": [
    "# Update Role API\n",
    "This API call is used to update dit a role and its privileges. \n",
    "\n",
    "* **Resource Information**\n",
    "\n",
    "|**Method**|**URL**|**Authentication**|\n",
    "|------|------|------|\n",
    "| **PUT** | http(s)://\"IP address of NetBrain Web API Server\"/ServicesAPI/API/CMDB/Roles | Yes |\n",
    "\n",
    "* **Header**\n",
    "\n",
    "|**Parameter**|**Type**|**Description**|\n",
    "|------|------|------|\n",
    "| Content-Type | string  | support \"application/json\" |\n",
    "| Accept | string  | support \"application/json\" |\n",
    "|token | string  | The token can be obtained by sending a POST request to the log in session endpoint and provide valid credentials.  |\n",
    "\n",
    "* **Parameters**(*required)\n",
    "\n",
    "|**Name**|**Type**|**Description**|\n",
    "|------|------|------|\n",
    "|nb_URL* | string  | IP address of your NetBrain Web API Server  |\n",
    "|roleName* | string  | The current name of the role. Key filed to search the existing role.  |\n",
    "|newRoleName | string  | A new name of the role. This field is optional. No change will be made if newRoleName, description, privileges fileds are all null or empty.  |\n",
    "|description | string  | The description of the role. This field is optional. No change will be made if newRoleName, description, privileges fileds are all null or empty.  |\n",
    "|privileges | list of integer  | The privileges that the role owns. See roles and privileges for more details. this field is optional. No change will be made if newRoleName, description, privileges fileds are all null or empty. |\n",
    "\n",
    "* **Response Information**\n",
    "\n",
    "|**Name**|**Type**|**Description**|\n",
    "|------|------|------|\n",
    "|statusCode| integer | Code issued by NetBrain server indicating the execution result.  |\n",
    "|statusDescription| string | The explanation of the status code. |\n",
    "\n",
    "* **Example**"
   ]
  },
  {
   "cell_type": "code",
   "execution_count": 2,
   "metadata": {},
   "outputs": [
    {
     "data": {
      "text/plain": [
       "'Update Role failed - {\"statusCode\":793001,\"statusDescription\":\"Inner exception. The user has no user management permission.\"}'"
      ]
     },
     "execution_count": 2,
     "metadata": {},
     "output_type": "execute_result"
    }
   ],
   "source": [
    "# Set the request parameters\n",
    "newRoleName = \"NewRole1\"\n",
    "\n",
    "# Update Role\n",
    "def updateRole(nb_url, token, newRoleName, roleName, description, privileges):\n",
    "    headers = {'Content-Type': 'application/json', 'Accept': 'application/json'}\n",
    "    headers[\"Token\"]=token\n",
    "    full_url= nb_url + \"/ServicesAPI/API/V1/CMDB/Roles\"\n",
    "    data= {\"newRoleName\": newRoleName, \"roleName\": roleName, \"description\": description, \"privileges\": privileges}\n",
    "    try:\n",
    "        response = requests.put(full_url, data = json.dumps(data), headers=headers, verify=False)\n",
    "        if response.status_code == 200:\n",
    "            result = response.json()\n",
    "            return (result)\n",
    "        else:\n",
    "            return(\"Update Role failed - \" + str(response.text))\n",
    "    except Exception as e:\n",
    "        return (str(e))  \n",
    "    \n",
    "res = updateRole(nb_url, token, newRoleName, roleName, description, privileges)\n",
    "res"
   ]
  },
  {
   "cell_type": "markdown",
   "metadata": {},
   "source": [
    "# Delete Role API\n",
    "This API call is used to delete a role.\n",
    "\n",
    "* **Resource Information**\n",
    "\n",
    "|**Method**|**URL**|**Authentication**|\n",
    "|------|------|------|\n",
    "| **DELETE** | http(s)://\"IP address of NetBrain Web API Server\"/ServicesAPI/API/CMDB/Roles/{roleName} | Yes |\n",
    "\n",
    "* **Header**\n",
    "\n",
    "|**Parameter**|**Type**|**Description**|\n",
    "|------|------|------|\n",
    "| Content-Type | string  | support \"application/json\" |\n",
    "| Accept | string  | support \"application/json\" |\n",
    "|token | string  | The token can be obtained by sending a POST request to the log in session endpoint and provide valid credentials.  |\n",
    "\n",
    "* **Parameters**(*required)\n",
    "\n",
    "|**Name**|**Type**|**Description**|\n",
    "|------|------|------|\n",
    "|nb_URL* | string  | IP address of your NetBrain Web API Server  |\n",
    "|roleName* | string  | The current name of the role. Key filed to search the existing role.  |\n",
    "\n",
    "\n",
    "* **Response Information**\n",
    "\n",
    "|**Name**|**Type**|**Description**|\n",
    "|------|------|------|\n",
    "|statusCode| integer | Code issued by NetBrain server indicating the execution result.  |\n",
    "|statusDescription| string | The explanation of the status code. |\n",
    "\n",
    "* **Example**"
   ]
  },
  {
   "cell_type": "code",
   "execution_count": 6,
   "metadata": {},
   "outputs": [
    {
     "data": {
      "text/plain": [
       "'Delete role failed - {\"statusCode\":793001,\"statusDescription\":\"Inner exception. The user has no user management permission.\"}'"
      ]
     },
     "execution_count": 6,
     "metadata": {},
     "output_type": "execute_result"
    }
   ],
   "source": [
    "# Delete role\n",
    "def deleteRole(nb_url, token, roleName):\n",
    "    headers = {'Content-Type': 'application/json', 'Accept': 'application/json'}\n",
    "    headers[\"Token\"]=token\n",
    "    full_url= nb_url + \"/ServicesAPI/API//V1/CMDB/Roles/\"+str(roleName)\n",
    "    try:\n",
    "        response = requests.delete(full_url, headers=headers, verify=False)\n",
    "        if response.status_code == 200:\n",
    "            result = response.json()\n",
    "            return (result)\n",
    "        else:\n",
    "            return(\"Delete role failed - \" + str(response.text))\n",
    "    except Exception as e:\n",
    "        return (str(e))\n",
    "    \n",
    "res = deleteRole(nb_url, token, roleName)\n",
    "res"
   ]
  },
  {
   "cell_type": "code",
   "execution_count": null,
   "metadata": {},
   "outputs": [],
   "source": []
  }
 ],
 "metadata": {
  "kernelspec": {
   "display_name": "Python 3",
   "language": "python",
   "name": "python3"
  },
  "language_info": {
   "codemirror_mode": {
    "name": "ipython",
    "version": 3
   },
   "file_extension": ".py",
   "mimetype": "text/x-python",
   "name": "python",
   "nbconvert_exporter": "python",
   "pygments_lexer": "ipython3",
   "version": "3.7.1"
  }
 },
 "nbformat": 4,
 "nbformat_minor": 2
}
