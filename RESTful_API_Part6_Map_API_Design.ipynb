{
 "cells": [
  {
   "cell_type": "markdown",
   "metadata": {},
   "source": [
    "# Map API Design\n",
    "\n",
    ">* [Export Map](#Export-Map-API)\n",
    "\n",
    ">* [Delete Map](#Delete-Map-API)"
   ]
  },
  {
   "cell_type": "markdown",
   "metadata": {},
   "source": [
    "# Export Map API\n",
    "This API call is used to export a map.\n",
    "\n",
    "* **Resource Information**\n",
    "\n",
    "|**Method**|**URL**|**Authentication**|\n",
    "|------|------|------|\n",
    "| **GET** | http(s)://IP address of NetBrain Web API Server/ServicesAPI/API/V1/CMDB/Maps | Yes |\n",
    "\n",
    "* **Header**\n",
    "\n",
    "|**Parameter**|**Type**|**Description**|\n",
    "|------|------|------|\n",
    "| Content-Type | string  | support \"application/json\" |\n",
    "| Accept | string  | support \"application/json\" |\n",
    "\n",
    "* **Parameters**(*required)\n",
    "\n",
    "|**Name**|**Type**|**Description**|\n",
    "|------|------|------|\n",
    "|token* | string  | The token can be obtained by sending a POST request to the log in session endpoint and provide valid credentials.  |\n",
    "|nb_URL* | string  | IP address of your NetBrain Web API Server  |\n",
    "|url* | string  | The url of the map that you will export.  |\n",
    "|format* | string  | The format of the exported map file, such as 'xmap', 'visio'. 'xmap' is used by default if this field is not set. (more formats are under development)  |\n",
    "|pages | list  | The name of the map page that you want to export. This field is optional and only valid for the visio format.(more formats are under development)  |\n",
    "\n",
    "* **Response Information**\n",
    "\n",
    "|**Name**|**Type**|**Description**|\n",
    "|------|------|------|\n",
    "|fileData| string | byte stream of xmap in specified format |\n",
    "|statusCode| integer | Code issued by NetBrain server indicating the execution result.  |\n",
    "|statusDescription| string | The explanation of the status code. |\n",
    "\n",
    "* **Example**"
   ]
  },
  {
   "cell_type": "code",
   "execution_count": 3,
   "metadata": {},
   "outputs": [
    {
     "name": "stdout",
     "output_type": "stream",
     "text": [
      "Export map failed! - {\"statusCode\":791000,\"statusDescription\":\"Null parameter: the parameter 'url' cannot be null.\"}\n"
     ]
    }
   ],
   "source": [
    "# import python modules \n",
    "import requests\n",
    "import time\n",
    "import urllib3\n",
    "import pprint\n",
    "import json\n",
    "urllib3.disable_warnings(urllib3.exceptions.InsecureRequestWarning)\n",
    "\n",
    "# Set the request parameters\n",
    "token = \"c67d48c3-e681-4988-aae0-e3f28d8e6add\"\n",
    "nb_url = \"http://192.168.28.79\"\n",
    "map_url = \" \"\n",
    "map_format = \" \"\n",
    "\n",
    "# Export map to visio file.\n",
    "def ExportMap(nb_url, token, map_url, map_format, pages = None):\n",
    "    full_url = nb_url + \"/ServicesAPI/API/V1/CMDB/Maps\"\n",
    "    headers = {'Content-Type': 'application/json', 'Accept': 'application/json'}\n",
    "    headers[\"Token\"] = token\n",
    "    data = {\n",
    "        \"url\": map_url,\n",
    "        \"format\": map_format,\n",
    "        \"pages\": pages\n",
    "    }\n",
    "    try:\n",
    "        response = requests.get(full_url, params=data, headers=headers, verify=False)\n",
    "        if response.status_code == 200:\n",
    "            result = response.json()\n",
    "            #map_data = result[\"fileData\"]\n",
    "            return result\n",
    "        elif response.status_code != 200:\n",
    "            print (\"Export map failed! - \" + str(response.text))\n",
    "    except Exception as e:\n",
    "        print (str(e))\n",
    "        \n",
    "res = ExportMap(nb_url, token, map_url, map_format, pages = None)\n",
    "res"
   ]
  },
  {
   "cell_type": "markdown",
   "metadata": {},
   "source": [
    "# Delete Map API\n",
    "This API call is used to delete a map from system\n",
    "\n",
    "* **Resource Information**\n",
    "\n",
    "|**Method**|**URL**|**Authentication**|\n",
    "|------|------|------|\n",
    "| **DELETE** | http(s)://IP address of NetBrain Web API Server/ServicesAPI/API/V1/CMDB/Maps | Yes |\n",
    "\n",
    "* **Header**\n",
    "\n",
    "|**Parameter**|**Type**|**Description**|\n",
    "|------|------|------|\n",
    "| Content-Type | string  | support \"application/json\" |\n",
    "| Accept | string  | support \"application/json\" |\n",
    "\n",
    "* **Parameters**(*required)\n",
    "\n",
    "|**Name**|**Type**|**Description**|\n",
    "|------|------|------|\n",
    "|token* | string  | The token can be obtained by sending a POST request to the log in session endpoint and provide valid credentials.  |\n",
    "|nb_URL* | string  | IP address of your NetBrain Web API Server  |\n",
    "|url* | string  | The url of the map that you will export.  |\n",
    "\n",
    "* **Response Information**\n",
    "\n",
    "|**Name**|**Type**|**Description**|\n",
    "|------|------|------|\n",
    "|statusCode| integer | Code issued by NetBrain server indicating the execution result.  |\n",
    "|statusDescription| string | The explanation of the status code. |\n",
    "\n",
    "* **Example**"
   ]
  },
  {
   "cell_type": "code",
   "execution_count": 4,
   "metadata": {},
   "outputs": [
    {
     "data": {
      "text/plain": [
       "'Map Delete Failed! - {\"statusCode\":791000,\"statusDescription\":\"Null parameter: the parameter \\'url\\' cannot be null.\"}'"
      ]
     },
     "execution_count": 4,
     "metadata": {},
     "output_type": "execute_result"
    }
   ],
   "source": [
    "# Delete map based on map url.\n",
    "def DeleteMap(nb_url, token, map_url):\n",
    "    full_url = nb_url + \"/ServicesAPI/API/V1/CMDB/Maps\"\n",
    "    headers = {'Content-Type': 'application/json', 'Accept': 'application/json'}\n",
    "    headers[\"Token\"] = token\n",
    "    try:\n",
    "        response = requests.delete(full_url, params={\"url\": map_url}, headers=headers, verify=False)\n",
    "        if response.status_code == 200:\n",
    "            result = response.json()\n",
    "            return result\n",
    "        else:\n",
    "            return \"Map Delete Failed! - \" + str(response.text)\n",
    "    except Exception as e:\n",
    "        print (str(e))\n",
    "        \n",
    "res = DeleteMap(nb_url, token, map_url)\n",
    "res"
   ]
  },
  {
   "cell_type": "code",
   "execution_count": null,
   "metadata": {},
   "outputs": [],
   "source": []
  }
 ],
 "metadata": {
  "kernelspec": {
   "display_name": "Python 3",
   "language": "python",
   "name": "python3"
  },
  "language_info": {
   "codemirror_mode": {
    "name": "ipython",
    "version": 3
   },
   "file_extension": ".py",
   "mimetype": "text/x-python",
   "name": "python",
   "nbconvert_exporter": "python",
   "pygments_lexer": "ipython3",
   "version": "3.7.1"
  }
 },
 "nbformat": 4,
 "nbformat_minor": 2
}
