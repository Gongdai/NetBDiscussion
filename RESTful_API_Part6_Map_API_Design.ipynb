{
 "cells": [
  {
   "cell_type": "markdown",
   "metadata": {},
   "source": [
    "# Map API Design\n",
    "\n",
    ">* [Export Map](#Export-Map-API)\n",
    "\n",
    ">* [Delete Map](#Delete-Map-API)"
   ]
  },
  {
   "cell_type": "markdown",
   "metadata": {},
   "source": [
    "# Export Map API\n",
    "This API call is used to export a map.\n",
    "\n",
    "* **Resource Information**\n",
    "\n",
    "|**Method**|**URL**|**Authentication**|\n",
    "|------|------|------|\n",
    "| **GET** | http(s)://IP address of NetBrain Web API Server/ServicesAPI/API/V1/CMDB/Maps | Yes |\n",
    "\n",
    "* **Header**\n",
    "\n",
    "|**Parameter**|**Type**|**Description**|\n",
    "|------|------|------|\n",
    "| Content-Type | string  | support \"application/json\" |\n",
    "| Accept | string  | support \"application/json\" |\n",
    "|token | string  | The token can be obtained by sending a POST request to the log in session endpoint and provide valid credentials.  |\n",
    "\n",
    "* **Parameters**(*required)\n",
    "\n",
    "|**Name**|**Type**|**Description**|\n",
    "|------|------|------|\n",
    "|nb_URL* | string  | IP address of your NetBrain Web API Server  |\n",
    "|url* | string  | The url of the map that you will export.  |\n",
    "|format* | string  | The format of the exported map file, such as 'xmap', 'visio'. 'xmap' is used by default if this field is not set. (more formats are under development)  |\n",
    "|pages | list  | The name of the map page that you want to export. This field is optional and only valid for the visio format.(more formats are under development)  |\n",
    "\n",
    "* **Response Information**\n",
    "\n",
    "|**Name**|**Type**|**Description**|\n",
    "|------|------|------|\n",
    "|fileData| string | byte stream of xmap in specified format |\n",
    "|statusCode| integer | Code issued by NetBrain server indicating the execution result.  |\n",
    "|statusDescription| string | The explanation of the status code. |\n",
    "\n",
    "* **Example**"
   ]
  },
  {
   "cell_type": "code",
   "execution_count": 1,
   "metadata": {},
   "outputs": [
    {
     "name": "stdout",
     "output_type": "stream",
     "text": [
      "Export map failed! - {\"statusCode\":795003,\"statusDescription\":\"Insufficient permissions: the current user has insufficient permissions to perform the requested operation. The user has no tenant or domain access permission.domainManagement\"}\n"
     ]
    }
   ],
   "source": [
    "# import python modules \n",
    "import requests\n",
    "import time\n",
    "import urllib3\n",
    "import pprint\n",
    "import json\n",
    "urllib3.disable_warnings(urllib3.exceptions.InsecureRequestWarning)\n",
    "\n",
    "# Set the request parameters\n",
    "token = \"86f3b508-4f89-4b27-8f57-33feec71a395\"\n",
    "nb_url = \"http://192.168.28.79\"\n",
    "map_url = \"http://192.168.28.79/map.html?t=fb24f3f0-81a7-1929-4b8f-99106c23fa5b&d=0201adc4-ae96-46f0-ae3d-01cdba9e41d6&id=e97f2451-6aba-6d68-fb32-f1473a52143f \"\n",
    "map_format = \"xmap\"\n",
    "\n",
    "# Export map to visio file.\n",
    "def ExportMap(nb_url, token, map_url, map_format, pages = None):\n",
    "    full_url = nb_url + \"/ServicesAPI/API/V1/CMDB/Maps\"\n",
    "    headers = {'Content-Type': 'application/json', 'Accept': 'application/json'}\n",
    "    headers[\"Token\"] = token\n",
    "    data = {\n",
    "        \"url\": map_url,\n",
    "        \"format\": map_format,\n",
    "        \"pages\": pages\n",
    "    }\n",
    "    try:\n",
    "        response = requests.get(full_url, params=data, headers=headers, verify=False)\n",
    "        if response.status_code == 200:\n",
    "            result = response.json()\n",
    "            #map_data = result[\"fileData\"]\n",
    "            return result\n",
    "        elif response.status_code != 200:\n",
    "            print (\"Export map failed! - \" + str(response.text))\n",
    "    except Exception as e:\n",
    "        print (str(e))\n",
    "        \n",
    "res = ExportMap(nb_url, token, map_url, map_format, pages = None)\n",
    "res"
   ]
  },
  {
   "cell_type": "markdown",
   "metadata": {},
   "source": [
    "# Delete Map API\n",
    "This API call is used to delete a map from system\n",
    "\n",
    "* **Resource Information**\n",
    "\n",
    "|**Method**|**URL**|**Authentication**|\n",
    "|------|------|------|\n",
    "| **DELETE** | http(s)://IP address of NetBrain Web API Server/ServicesAPI/API/V1/CMDB/Maps | Yes |\n",
    "\n",
    "* **Header**\n",
    "\n",
    "|**Parameter**|**Type**|**Description**|\n",
    "|------|------|------|\n",
    "| Content-Type | string  | support \"application/json\" |\n",
    "| Accept | string  | support \"application/json\" |\n",
    "|token | string  | The token can be obtained by sending a POST request to the log in session endpoint and provide valid credentials.  |\n",
    "* **Parameters**(*required)\n",
    "\n",
    "|**Name**|**Type**|**Description**|\n",
    "|------|------|------|\n",
    "|nb_URL* | string  | IP address of your NetBrain Web API Server  |\n",
    "|url* | string  | The url of the map that you will export.  |\n",
    "\n",
    "* **Response Information**\n",
    "\n",
    "|**Name**|**Type**|**Description**|\n",
    "|------|------|------|\n",
    "|statusCode| integer | Code issued by NetBrain server indicating the execution result.  |\n",
    "|statusDescription| string | The explanation of the status code. |\n",
    "\n",
    "* **Example**"
   ]
  },
  {
   "cell_type": "code",
   "execution_count": 2,
   "metadata": {},
   "outputs": [
    {
     "data": {
      "text/plain": [
       "'Map Delete Failed! - {\"statusCode\":795003,\"statusDescription\":\"Insufficient permissions: the current user has insufficient permissions to perform the requested operation. The user has no tenant or domain access permission.domainManagement\"}'"
      ]
     },
     "execution_count": 2,
     "metadata": {},
     "output_type": "execute_result"
    }
   ],
   "source": [
    "# Delete map based on map url.\n",
    "def DeleteMap(nb_url, token, map_url):\n",
    "    full_url = nb_url + \"/ServicesAPI/API/V1/CMDB/Maps\"\n",
    "    headers = {'Content-Type': 'application/json', 'Accept': 'application/json'}\n",
    "    headers[\"Token\"] = token\n",
    "    try:\n",
    "        response = requests.delete(full_url, params={\"url\": map_url}, headers=headers, verify=False)\n",
    "        if response.status_code == 200:\n",
    "            result = response.json()\n",
    "            return result\n",
    "        else:\n",
    "            return \"Map Delete Failed! - \" + str(response.text)\n",
    "    except Exception as e:\n",
    "        print (str(e))\n",
    "        \n",
    "res = DeleteMap(nb_url, token, map_url)\n",
    "res"
   ]
  },
  {
   "cell_type": "code",
   "execution_count": null,
   "metadata": {},
   "outputs": [],
   "source": []
  }
 ],
 "metadata": {
  "kernelspec": {
   "display_name": "Python 3",
   "language": "python",
   "name": "python3"
  },
  "language_info": {
   "codemirror_mode": {
    "name": "ipython",
    "version": 3
   },
   "file_extension": ".py",
   "mimetype": "text/x-python",
   "name": "python",
   "nbconvert_exporter": "python",
   "pygments_lexer": "ipython3",
   "version": "3.7.1"
  }
 },
 "nbformat": 4,
 "nbformat_minor": 2
}
